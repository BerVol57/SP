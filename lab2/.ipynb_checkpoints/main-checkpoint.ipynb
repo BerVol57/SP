{
 "cells": [
  {
   "cell_type": "markdown",
   "id": "53309830-9765-45f2-aea7-19bc3e18ebf2",
   "metadata": {},
   "source": []
  },
  {
   "cell_type": "code",
   "execution_count": 5,
   "id": "037779e6-fb9c-4b2c-80c6-24156c6507a3",
   "metadata": {},
   "outputs": [
    {
     "name": "stdout",
     "output_type": "stream",
     "text": [
      "Setup complete\n"
     ]
    }
   ],
   "source": [
    "#Імпорт необхідних модулів\n",
    "from datetime import datetime\n",
    "import pandas as pd\n",
    "import urllib\n",
    "import os\n",
    "print(\"Setup complete\")"
   ]
  },
  {
   "cell_type": "code",
   "execution_count": 14,
   "id": "78bc86b0-aa18-4f91-9a52-0076b5895e0c",
   "metadata": {},
   "outputs": [],
   "source": [
    "#Функція що повертає час в момент виклику\n",
    "date_and_time_time = ''\n",
    "def time_now():\n",
    "    now = datetime.now()\n",
    "    global date_and_time_time \n",
    "    date_and_time_time = now.strftime(\"%d%m%Y%H%M%S\")\n",
    "    print(\"Time now:\",date_and_time_time)"
   ]
  },
  {
   "cell_type": "code",
   "execution_count": null,
   "id": "9ddddb69-986e-44dc-864e-bf416c0c723f",
   "metadata": {},
   "outputs": [],
   "source": []
  },
  {
   "cell_type": "code",
   "execution_count": 25,
   "id": "649b649f-c566-43b4-9308-acbe2ec050c0",
   "metadata": {
    "scrolled": true
   },
   "outputs": [
    {
     "name": "stdout",
     "output_type": "stream",
     "text": [
      "Time now: 06102023014314\n",
      "Clean directory <data>...\n",
      "Complete\n",
      "Download...\n",
      "Complete\n"
     ]
    }
   ],
   "source": [
    "#Функція оновлдення та заванатаження нових даних\n",
    "def _download_data():\n",
    "    #Оновл.ємо час\n",
    "    time_now()\n",
    "    \n",
    "    #Масив з навзами областей України розташовані в алфавітному порядку відносно кирилиці\n",
    "    index_ua = ['plashka', 22, 24, 23, 25, 3, 4, 8, 19, 20, 21, 9, 90, 10, 11, 12, 13, 14, 15, 16, 250, 17, 18, 6, 1, 2, 7, 5]\n",
    "    \n",
    "    #Перевіряємо чи папка з даними пуста та чи ця папка існує,\n",
    "    #якщо ні, то відопвідно очищуємо, або створюємо нову папку\n",
    "    if os.path.isdir(\"data\"):\n",
    "        print(\"Clean directory <data>...\")\n",
    "        for f in os.listdir('data'):\n",
    "            os.remove(\"data/\"+f)\n",
    "        print(\"Complete\")\n",
    "    else:\n",
    "        print(\"Create new directory <data>...\")\n",
    "        os.mkdir('data')\n",
    "        print(\"Complete\")\n",
    "\n",
    "    #Початок завантаження даних\n",
    "    print(\"Download...\")\n",
    "    \n",
    "    for i in range(1,28):\n",
    "        url='https://www.star.nesdis.noaa.gov/smcd/emb/vci/VH/get_TS_admin.php?provinceID={}&country=UKR&yearlyTag=Weekly&type=Mean&TagCropland=crop&year1=1982&year2=2023'.format(i)\n",
    "        wp = urllib.request.urlopen(url)\n",
    "        \n",
    "        text = wp.read()\n",
    "        out=open(f'data/NOAA_ID_{str(index_ua[i])}_{date_and_time_time}.csv','wb')\n",
    "\n",
    "        #Очищення даних від різного сміття\n",
    "        text = '\\n'.join(text.decode().split(\"\\n\")[1:]).replace(\"<tt><pre>\", '').replace(\"<br>\", '').replace(\"</pre></tt>\", '').replace(\",\", ';').encode()\n",
    "        out.write(text)\n",
    "        out.close()\n",
    "    #replace(\"</pre></tt>\", '')\n",
    "    print(\"Complete\")\n",
    "\n",
    "_download_data()"
   ]
  },
  {
   "cell_type": "code",
   "execution_count": 88,
   "id": "61f5b6a8-50d3-48a4-9ff7-df0af744ec36",
   "metadata": {},
   "outputs": [],
   "source": [
    "def get_dataframes(region_index):\n",
    "    df = pd.read_csv(f'data/NOAA_ID_{region_index}_{date_and_time_time}.csv',\n",
    "                     sep=';', index_col=False)\n",
    "    df.columns = df.columns.str.replace(' ', '')\n",
    "    return df"
   ]
  },
  {
   "cell_type": "code",
   "execution_count": 89,
   "id": "0cab8e13-3748-4410-bd1b-a6624ecb1ebf",
   "metadata": {},
   "outputs": [
    {
     "name": "stdout",
     "output_type": "stream",
     "text": [
      "['year' 'week' 'SMN' 'SMT' 'VCI' 'TCI' 'VHI']\n"
     ]
    }
   ],
   "source": [
    "df=get_dataframes(5)\n",
    "print(df.columns.values)"
   ]
  },
  {
   "cell_type": "code",
   "execution_count": 97,
   "id": "fff6af58-cfed-4149-b97c-4e34ec599a4e",
   "metadata": {},
   "outputs": [
    {
     "name": "stdout",
     "output_type": "stream",
     "text": [
      "     year  week    SMN     SMT    VCI    TCI    VHI\n",
      "953  2000    18  0.377  289.99  83.84  51.33  67.58\n"
     ]
    }
   ],
   "source": [
    "def take_data_year_week(df, year, week):\n",
    "    return df[(df['year']==year)&(df['week']==week)]\n",
    "\n",
    "print(take_data_year_week(df, 2000, 18))"
   ]
  },
  {
   "cell_type": "code",
   "execution_count": 115,
   "id": "69e09a2a-9ebc-45a4-b2c6-a9b9fd438c3d",
   "metadata": {},
   "outputs": [
    {
     "name": "stdout",
     "output_type": "stream",
     "text": [
      "[     year  week   SMN     SMT    VCI    TCI    VHI\n",
      "936  2000     1  0.04  261.43  15.25  38.99  27.12,      year  week    SMN     SMT    VCI    TCI    VHI\n",
      "954  2000    19  0.408  291.21  83.05  52.47  67.76]\n"
     ]
    }
   ],
   "source": [
    "def extremum(region, year):\n",
    "    df=get_dataframes(region)\n",
    "    year_df=df[df['year']==year]\n",
    "    return [df[df['VHI']==min(year_df['VHI'])], df[df['VHI']==max(year_df['VHI'])]]\n",
    "\n",
    "print(extremum(5, 2000))"
   ]
  },
  {
   "cell_type": "code",
   "execution_count": 147,
   "id": "a0de78c2-8b5f-4c87-846b-8071a1c55ec4",
   "metadata": {},
   "outputs": [
    {
     "name": "stdout",
     "output_type": "stream",
     "text": [
      "     year  week    SMN     SMT    VCI    TCI    VHI\n",
      "653  1994    30  0.362  299.99  20.58   5.55  13.06\n",
      "654  1994    31  0.338  298.92  13.89   9.20  11.54\n",
      "655  1994    32  0.319  297.43   9.43  16.37  12.90\n"
     ]
    }
   ],
   "source": [
    "def extreme_drought(region, area_percent):\n",
    "    df=get_dataframes(region)\n",
    "    return df[ (df['VHI']<15) & (df['SMN']>area_percent/100) ]\n",
    "\n",
    "print(extreme_drought(2, 2))"
   ]
  },
  {
   "cell_type": "code",
   "execution_count": 159,
   "id": "cdf26853-935a-4927-b0e9-1b5df9129ad9",
   "metadata": {},
   "outputs": [
    {
     "name": "stdout",
     "output_type": "stream",
     "text": [
      "      year  week    SMN     SMT    VCI    TCI    VHI\n",
      "235   1986    28  0.414  295.85  41.55  27.20  34.37\n",
      "544   1992    25  0.417  295.19  38.00  30.25  34.13\n",
      "545   1992    26  0.419  295.74  38.82  24.40  31.61\n",
      "546   1992    27  0.419  296.21  41.75  20.53  31.14\n",
      "547   1992    28  0.416  296.60  43.03  18.00  30.52\n",
      "548   1992    29  0.409  296.43  42.13  23.28  32.71\n",
      "649   1994    26  0.448  297.31  56.54  12.50  34.52\n",
      "650   1994    27  0.433  298.46  50.54   8.29  29.41\n",
      "651   1994    28  0.411  299.40  40.40   5.48  22.94\n",
      "707   1995    32  0.414  297.13  54.53  14.03  34.28\n",
      "1071  2002    32  0.409  296.93  51.85  16.37  34.11\n",
      "1748  2015    33  0.412  297.73  56.17   9.74  32.95\n"
     ]
    }
   ],
   "source": [
    "def moderate_drought(region, area_percent):\n",
    "    df=get_dataframes(region)\n",
    "    return df[ (df['VHI']>15) & (df['VHI']<35) & (df['SMN']>area_percent/100) ]\n",
    "\n",
    "print(moderate_drought(2, 40))"
   ]
  },
  {
   "cell_type": "code",
   "execution_count": null,
   "id": "ab66958a-30d3-4568-83f5-87edc7b07896",
   "metadata": {},
   "outputs": [],
   "source": []
  }
 ],
 "metadata": {
  "kernelspec": {
   "display_name": "Python 3 (ipykernel)",
   "language": "python",
   "name": "python3"
  },
  "language_info": {
   "codemirror_mode": {
    "name": "ipython",
    "version": 3
   },
   "file_extension": ".py",
   "mimetype": "text/x-python",
   "name": "python",
   "nbconvert_exporter": "python",
   "pygments_lexer": "ipython3",
   "version": "3.11.4"
  }
 },
 "nbformat": 4,
 "nbformat_minor": 5
}
